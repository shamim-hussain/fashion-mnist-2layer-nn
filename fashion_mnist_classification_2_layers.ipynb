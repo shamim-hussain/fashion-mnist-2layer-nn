{
  "nbformat": 4,
  "nbformat_minor": 0,
  "metadata": {
    "colab": {
      "name": "fashion_mnist_classification_2_layers.ipynb",
      "provenance": [],
      "collapsed_sections": [],
      "toc_visible": true,
      "authorship_tag": "ABX9TyNexNHl5tUgwtxowbOL4lK5",
      "include_colab_link": true
    },
    "kernelspec": {
      "display_name": "Python 3",
      "name": "python3"
    },
    "language_info": {
      "name": "python"
    }
  },
  "cells": [
    {
      "cell_type": "markdown",
      "metadata": {
        "id": "view-in-github",
        "colab_type": "text"
      },
      "source": [
        "<a href=\"https://colab.research.google.com/github/shamim-hussain/fashion-mnist-2layer-nn/blob/main/fashion_mnist_classification_2_layers.ipynb\" target=\"_parent\"><img src=\"https://colab.research.google.com/assets/colab-badge.svg\" alt=\"Open In Colab\"/></a>"
      ]
    },
    {
      "cell_type": "code",
      "metadata": {
        "colab": {
          "base_uri": "https://localhost:8080/"
        },
        "id": "tCO9I9PpSy3-",
        "outputId": "81a05bdc-5a64-4023-8672-91e85f111f95"
      },
      "source": [
        "'''From: https://github.com/zalandoresearch/fashion-mnist'''\n",
        "\n",
        "!wget http://fashion-mnist.s3-website.eu-central-1.amazonaws.com/train-images-idx3-ubyte.gz\n",
        "!wget http://fashion-mnist.s3-website.eu-central-1.amazonaws.com/train-labels-idx1-ubyte.gz\n",
        "!wget http://fashion-mnist.s3-website.eu-central-1.amazonaws.com/t10k-images-idx3-ubyte.gz\n",
        "!wget http://fashion-mnist.s3-website.eu-central-1.amazonaws.com/t10k-labels-idx1-ubyte.gz"
      ],
      "execution_count": 1,
      "outputs": [
        {
          "output_type": "stream",
          "name": "stdout",
          "text": [
            "--2021-10-01 03:58:32--  http://fashion-mnist.s3-website.eu-central-1.amazonaws.com/train-images-idx3-ubyte.gz\n",
            "Resolving fashion-mnist.s3-website.eu-central-1.amazonaws.com (fashion-mnist.s3-website.eu-central-1.amazonaws.com)... 52.219.75.12\n",
            "Connecting to fashion-mnist.s3-website.eu-central-1.amazonaws.com (fashion-mnist.s3-website.eu-central-1.amazonaws.com)|52.219.75.12|:80... connected.\n",
            "HTTP request sent, awaiting response... 200 OK\n",
            "Length: 26421880 (25M) [binary/octet-stream]\n",
            "Saving to: ‘train-images-idx3-ubyte.gz.3’\n",
            "\n",
            "train-images-idx3-u 100%[===================>]  25.20M  10.6MB/s    in 2.4s    \n",
            "\n",
            "2021-10-01 03:58:35 (10.6 MB/s) - ‘train-images-idx3-ubyte.gz.3’ saved [26421880/26421880]\n",
            "\n",
            "--2021-10-01 03:58:35--  http://fashion-mnist.s3-website.eu-central-1.amazonaws.com/train-labels-idx1-ubyte.gz\n",
            "Resolving fashion-mnist.s3-website.eu-central-1.amazonaws.com (fashion-mnist.s3-website.eu-central-1.amazonaws.com)... 52.219.75.12\n",
            "Connecting to fashion-mnist.s3-website.eu-central-1.amazonaws.com (fashion-mnist.s3-website.eu-central-1.amazonaws.com)|52.219.75.12|:80... connected.\n",
            "HTTP request sent, awaiting response... 200 OK\n",
            "Length: 29515 (29K) [binary/octet-stream]\n",
            "Saving to: ‘train-labels-idx1-ubyte.gz.3’\n",
            "\n",
            "train-labels-idx1-u 100%[===================>]  28.82K  --.-KB/s    in 0.1s    \n",
            "\n",
            "2021-10-01 03:58:35 (198 KB/s) - ‘train-labels-idx1-ubyte.gz.3’ saved [29515/29515]\n",
            "\n",
            "--2021-10-01 03:58:35--  http://fashion-mnist.s3-website.eu-central-1.amazonaws.com/t10k-images-idx3-ubyte.gz\n",
            "Resolving fashion-mnist.s3-website.eu-central-1.amazonaws.com (fashion-mnist.s3-website.eu-central-1.amazonaws.com)... 52.219.75.12\n",
            "Connecting to fashion-mnist.s3-website.eu-central-1.amazonaws.com (fashion-mnist.s3-website.eu-central-1.amazonaws.com)|52.219.75.12|:80... connected.\n",
            "HTTP request sent, awaiting response... 200 OK\n",
            "Length: 4422102 (4.2M) [binary/octet-stream]\n",
            "Saving to: ‘t10k-images-idx3-ubyte.gz.3’\n",
            "\n",
            "t10k-images-idx3-ub 100%[===================>]   4.22M  3.59MB/s    in 1.2s    \n",
            "\n",
            "2021-10-01 03:58:37 (3.59 MB/s) - ‘t10k-images-idx3-ubyte.gz.3’ saved [4422102/4422102]\n",
            "\n",
            "--2021-10-01 03:58:37--  http://fashion-mnist.s3-website.eu-central-1.amazonaws.com/t10k-labels-idx1-ubyte.gz\n",
            "Resolving fashion-mnist.s3-website.eu-central-1.amazonaws.com (fashion-mnist.s3-website.eu-central-1.amazonaws.com)... 52.219.47.4\n",
            "Connecting to fashion-mnist.s3-website.eu-central-1.amazonaws.com (fashion-mnist.s3-website.eu-central-1.amazonaws.com)|52.219.47.4|:80... connected.\n",
            "HTTP request sent, awaiting response... 200 OK\n",
            "Length: 5148 (5.0K) [binary/octet-stream]\n",
            "Saving to: ‘t10k-labels-idx1-ubyte.gz.3’\n",
            "\n",
            "t10k-labels-idx1-ub 100%[===================>]   5.03K  --.-KB/s    in 0s      \n",
            "\n",
            "2021-10-01 03:58:37 (575 MB/s) - ‘t10k-labels-idx1-ubyte.gz.3’ saved [5148/5148]\n",
            "\n"
          ]
        }
      ]
    },
    {
      "cell_type": "code",
      "metadata": {
        "id": "O14Hj-PtSgcu"
      },
      "source": [
        "\n",
        "'''From: https://github.com/zalandoresearch/fashion-mnist/blob/master/utils/mnist_reader.py'''\n",
        "def load_mnist(path, kind='train'):\n",
        "    import os\n",
        "    import gzip\n",
        "    import numpy as np\n",
        "\n",
        "    \"\"\"Load MNIST data from `path`\"\"\"\n",
        "    labels_path = os.path.join(path,\n",
        "                               '%s-labels-idx1-ubyte.gz'\n",
        "                               % kind)\n",
        "    images_path = os.path.join(path,\n",
        "                               '%s-images-idx3-ubyte.gz'\n",
        "                               % kind)\n",
        "\n",
        "    with gzip.open(labels_path, 'rb') as lbpath:\n",
        "        labels = np.frombuffer(lbpath.read(), dtype=np.uint8,\n",
        "                               offset=8)\n",
        "\n",
        "    with gzip.open(images_path, 'rb') as imgpath:\n",
        "        images = np.frombuffer(imgpath.read(), dtype=np.uint8,\n",
        "                               offset=16).reshape(len(labels), 784)\n",
        "\n",
        "    return images, labels\n",
        "\n",
        "X_train, Y_train = load_mnist('./', kind='train')\n",
        "X_test, Y_test = load_mnist('./', kind='t10k')"
      ],
      "execution_count": 2,
      "outputs": []
    },
    {
      "cell_type": "code",
      "metadata": {
        "colab": {
          "base_uri": "https://localhost:8080/"
        },
        "id": "9j6qNter7UUU",
        "outputId": "27df0ced-e22f-42af-9477-4a4eae771669"
      },
      "source": [
        "print('Shape of data:', X_train.shape)\n",
        "print('Type of data:', X_train.dtype)\n",
        "print('Shape of data:', Y_train.shape)\n",
        "print('Type of labes:', Y_train.dtype)"
      ],
      "execution_count": 3,
      "outputs": [
        {
          "output_type": "stream",
          "name": "stdout",
          "text": [
            "Shape of data: (60000, 784)\n",
            "Type of data: uint8\n",
            "Shape of data: (60000,)\n",
            "Type of labes: uint8\n"
          ]
        }
      ]
    },
    {
      "cell_type": "code",
      "metadata": {
        "colab": {
          "base_uri": "https://localhost:8080/",
          "height": 179
        },
        "id": "LbrBhQFx2mnz",
        "outputId": "2446a355-56c2-4b34-a81c-9e426775fc16"
      },
      "source": [
        "import numpy as np\n",
        "import matplotlib.pyplot as plt\n",
        "# Visualize data\n",
        "plt.figure(figsize=[20,5])\n",
        "for y in range(10):\n",
        "    plt.subplot(1,10,1+y)\n",
        "    plt.imshow(X_train[np.where(Y_train==y)[0][0]].reshape(28,28),cmap='gray')\n",
        "    plt.axis('off')\n",
        "    plt.title(f'class:{y}')\n",
        "plt.tight_layout()\n",
        "plt.show()"
      ],
      "execution_count": 4,
      "outputs": [
        {
          "output_type": "display_data",
          "data": {
            "image/png": "[encoded data removed]",
            "text/plain": [
              "<Figure size 1440x360 with 10 Axes>"
            ]
          },
          "metadata": {
            "needs_background": "light"
          }
        }
      ]
    },
    {
      "cell_type": "code",
      "metadata": {
        "id": "LJqyvIZe79_d"
      },
      "source": [
        "X_train = X_train.astype('float32')/255\n",
        "X_test = X_test.astype('float32')/255\n",
        "\n",
        "Y_train = Y_train.astype('int64')\n",
        "Y_test = Y_test.astype('int64')"
      ],
      "execution_count": 5,
      "outputs": []
    },
    {
      "cell_type": "code",
      "metadata": {
        "colab": {
          "base_uri": "https://localhost:8080/",
          "height": 363
        },
        "id": "oTCPs4gc9CCk",
        "outputId": "219073e5-8235-4238-8c74-130c24a1cf12"
      },
      "source": [
        "plt.hist(X_train.reshape(-1))"
      ],
      "execution_count": 6,
      "outputs": [
        {
          "output_type": "execute_result",
          "data": {
            "text/plain": [
              "(array([25790964.,  1344502.,  1582733.,  1643562.,  1876736.,  2034790.,\n",
              "         2606932.,  3303752.,  4306392.,  2549637.]),\n",
              " array([0. , 0.1, 0.2, 0.3, 0.4, 0.5, 0.6, 0.7, 0.8, 0.9, 1. ],\n",
              "       dtype=float32),\n",
              " <a list of 10 Patch objects>)"
            ]
          },
          "metadata": {},
          "execution_count": 6
        },
        {
          "output_type": "display_data",
          "data": {
            "image/png": "[encoded data removed]",
            "text/plain": [
              "<Figure size 432x288 with 1 Axes>"
            ]
          },
          "metadata": {
            "needs_background": "light"
          }
        }
      ]
    },
    {
      "cell_type": "code",
      "metadata": {
        "colab": {
          "base_uri": "https://localhost:8080/"
        },
        "id": "nIQfjy9y9ghM",
        "outputId": "98acb4ce-688e-40c6-9608-656b35ee4151"
      },
      "source": [
        "from sklearn.decomposition import PCA\n",
        "\n",
        "pca = PCA(n_components=128)\n",
        "pca.fit(X_train)\n",
        "X_train_pca = pca.transform(X_train)\n",
        "X_test_pca = pca.transform(X_test)\n",
        "\n",
        "print('Number of components', X_train_pca.shape[1])"
      ],
      "execution_count": 7,
      "outputs": [
        {
          "output_type": "stream",
          "name": "stdout",
          "text": [
            "Number of components 160\n"
          ]
        }
      ]
    },
    {
      "cell_type": "code",
      "metadata": {
        "colab": {
          "base_uri": "https://localhost:8080/",
          "height": 341
        },
        "id": "kCEl0bD__Z6N",
        "outputId": "453b40e2-6353-46e1-e821-4aca0c4dde92"
      },
      "source": [
        "import numpy as np\n",
        "import matplotlib.pyplot as plt\n",
        "# Visualize data\n",
        "plt.figure(figsize=[20,5])\n",
        "for y in range(10):\n",
        "    plt.subplot(1,10,1+y)\n",
        "    plt.imshow(X_train[np.where(Y_train==y)[0][1]].reshape(28,28),cmap='gray')\n",
        "    plt.axis('off')\n",
        "    plt.title(f'class:{y}')\n",
        "plt.tight_layout()\n",
        "plt.show()\n",
        "\n",
        "plt.figure(figsize=[20,5])\n",
        "for y in range(10):\n",
        "    plt.subplot(1,10,1+y)\n",
        "    plt.imshow(pca.inverse_transform(X_train_pca[np.where(Y_train==y)[0]])[1].reshape(28,28),cmap='gray')\n",
        "    plt.axis('off')\n",
        "    plt.title(f'class:{y}')\n",
        "plt.tight_layout()\n",
        "plt.show()"
      ],
      "execution_count": 9,
      "outputs": [
        {
          "output_type": "display_data",
          "data": {
            "image/png": "[encoded data removed]",
            "text/plain": [
              "<Figure size 1440x360 with 10 Axes>"
            ]
          },
          "metadata": {
            "needs_background": "light"
          }
        },
        {
          "output_type": "display_data",
          "data": {
            "image/png": "[encoded data removed]",
            "text/plain": [
              "<Figure size 1440x360 with 10 Axes>"
            ]
          },
          "metadata": {
            "needs_background": "light"
          }
        }
      ]
    },
    {
      "cell_type": "code",
      "metadata": {
        "id": "P70Vu3lA2uls"
      },
      "source": [
        "from sklearn.preprocessing import StandardScaler\n",
        "scaler = StandardScaler()\n",
        "scaler.fit(X_train_pca)\n",
        "\n",
        "X_train_pca = scaler.transform(X_train_pca)\n",
        "X_test_pca = scaler.transform(X_test_pca)\n"
      ],
      "execution_count": 10,
      "outputs": []
    },
    {
      "cell_type": "code",
      "metadata": {
        "id": "0qToDOrpD-V0"
      },
      "source": [
        "from sklearn.model_selection import train_test_split\n",
        "X_train, X_val, Y_train, Y_val = train_test_split(X_train_pca, Y_train, test_size=0.1, random_state=42)\n",
        "\n",
        "X_test = X_test_pca"
      ],
      "execution_count": 11,
      "outputs": []
    },
    {
      "cell_type": "code",
      "metadata": {
        "colab": {
          "base_uri": "https://localhost:8080/"
        },
        "id": "5Avfp4SvGi58",
        "outputId": "7ae32079-509a-46de-be3c-44e9dfc0de5b"
      },
      "source": [
        "X_test.shape"
      ],
      "execution_count": 12,
      "outputs": [
        {
          "output_type": "execute_result",
          "data": {
            "text/plain": [
              "(10000, 160)"
            ]
          },
          "metadata": {},
          "execution_count": 12
        }
      ]
    },
    {
      "cell_type": "code",
      "metadata": {
        "id": "1w5uzakHB0Rr"
      },
      "source": [
        "import tensorflow as tf\n",
        "from tensorflow.keras import models, optimizers, losses, metrics\n",
        "from tensorflow.data import Dataset\n",
        "\n",
        "\n",
        "num_feats = X_train.shape[1]\n",
        "\n",
        "\n",
        "class NN2Layers(models.Model):\n",
        "    def __init__(self, num_hidden=64, activation='relu', **kwargs):\n",
        "        super().__init__(**kwargs)\n",
        "\n",
        "        self.W1 = self.add_weight(shape=(num_feats,num_hidden), initializer='uniform')\n",
        "        self.b1 = self.add_weight(shape=(num_hidden,), initializer='uniform')\n",
        "        self.W2 = self.add_weight(shape=(num_hidden,10), initializer='uniform')\n",
        "        self.b2 = self.add_weight(shape=(10,), initializer='uniform')\n",
        "\n",
        "        if activation == 'sigmoid':\n",
        "            self.activation_fn = tf.nn.sigmoid\n",
        "        elif activation == 'relu':\n",
        "            self.activation_fn = tf.nn.relu\n",
        "        elif activation == 'tanh':\n",
        "            self.activation_fn = tf.nn.tanh\n",
        "    \n",
        "    @tf.function\n",
        "    def call(self, x):\n",
        "        h1 = tf.matmul(x, self.W1) + self.b1\n",
        "        a1 = self.activation_fn(h1)\n",
        "\n",
        "        h2 = tf.matmul(a1, self.W2) + self.b2\n",
        "        a2 = tf.nn.softmax(h2)\n",
        "        return a2\n",
        "\n",
        "\n"
      ],
      "execution_count": 13,
      "outputs": []
    },
    {
      "cell_type": "code",
      "metadata": {
        "colab": {
          "base_uri": "https://localhost:8080/"
        },
        "id": "vuQOtdzKWG9H",
        "outputId": "a9a26b1b-ae46-4280-82ff-a4aa7b2b999d"
      },
      "source": [
        "from tqdm import trange\n",
        "\n",
        "def train_model(X_t, Y_t, X_v, Y_v, model, optimizer='sgd', batch_size=32,\n",
        "                  epochs=100, initial_lr=1e-2, decay=0.985, l2_loss=0.):\n",
        "    train_dset = Dataset.from_tensor_slices((X_t, Y_t)).shuffle(len(X_t)).batch(batch_size)\n",
        "    validation_dset = Dataset.from_tensor_slices((X_v, Y_v)).batch(batch_size)\n",
        "\n",
        "    if optimizer == 'adam':\n",
        "        optimizer = optimizers.Adam(initial_lr)\n",
        "    if optimizer == 'rmsprop':\n",
        "        optimizer = optimizers.RMSprop(initial_lr)\n",
        "    if optimizer == 'sgd':\n",
        "        optimizer = optimizers.SGD(initial_lr, momentum=0.5)\n",
        "    \n",
        "    loss_fn = losses.SparseCategoricalCrossentropy()\n",
        "    loss_metric = metrics.SparseCategoricalCrossentropy()\n",
        "    acc_metric = metrics.SparseCategoricalAccuracy()\n",
        "\n",
        "    @tf.function\n",
        "    def l2_loss_fn():\n",
        "        return tf.reduce_sum(tf.square(model.W1)) + \\\n",
        "                tf.reduce_sum(tf.square(model.W2))\n",
        "    @tf.function\n",
        "    def training_loop():\n",
        "        for X,Y in train_dset:\n",
        "            with tf.GradientTape() as tape:\n",
        "                Y_p = model(X)\n",
        "                loss = loss_fn(Y,Y_p) + l2_loss*l2_loss_fn()\n",
        "\n",
        "            \n",
        "            grads = tape.gradient(loss, model.trainable_variables)\n",
        "            optimizer.apply_gradients(zip(grads,model.trainable_variables))\n",
        "            loss_metric.update_state(Y,Y_p)\n",
        "            acc_metric.update_state(Y,Y_p)\n",
        "    \n",
        "    @tf.function\n",
        "    def validation_loop():\n",
        "        for X,Y in validation_dset:\n",
        "            Y_p = model(X)\n",
        "            loss_metric.update_state(Y,Y_p)\n",
        "            acc_metric.update_state(Y,Y_p)\n",
        "\n",
        "    gen = trange(epochs)\n",
        "    try:\n",
        "        for epoch in gen:\n",
        "            # Training epoch\n",
        "            loss_metric.reset_state()\n",
        "            acc_metric.reset_state()\n",
        "            training_loop()\n",
        "            training_loss=loss_metric.result().numpy()\n",
        "            training_acc=acc_metric.result().numpy()\n",
        "\n",
        "            \n",
        "            # Validation epoch\n",
        "            loss_metric.reset_state()\n",
        "            acc_metric.reset_state()\n",
        "            validation_loop()\n",
        "            validation_loss=loss_metric.result().numpy()\n",
        "            validation_acc=acc_metric.result().numpy()\n",
        "\n",
        "            optimizer.lr.assign(optimizer.lr*decay)\n",
        "\n",
        "            gen.set_description(f'LR: {optimizer.lr.numpy():.3e} :: Training: loss={training_loss:0.4f}; acc={training_acc:.3%} :: Validation: loss={validation_loss:0.4f}; acc={validation_acc:.3%} ')\n",
        "    finally:\n",
        "        gen.close()\n",
        "\n",
        "model=NN2Layers(num_hidden=128, activation='relu')\n",
        "train_model(X_train, Y_train, X_val, Y_val, model, 'adam', 32, 200, 1e-3, 0.985, 1e-3)\n"
      ],
      "execution_count": 15,
      "outputs": [
        {
          "output_type": "stream",
          "name": "stderr",
          "text": [
            "LR: 4.867e-05 :: Training: loss=0.1641; acc=95.856% :: Validation: loss=0.3024; acc=89.200% : 100%|██████████| 200/200 [04:19<00:00,  1.30s/it]\n"
          ]
        }
      ]
    },
    {
      "cell_type": "code",
      "metadata": {
        "id": "f-RY-bGTfg2n"
      },
      "source": [
        "model.compile('adam', 'sparse_categorical_crossentropy', ['acc'])\n",
        "model.fit(X_train, Y_train, batch_size=32, epochs=25, validation_data=(X_val, Y_val))"
      ],
      "execution_count": null,
      "outputs": []
    }
  ]
}