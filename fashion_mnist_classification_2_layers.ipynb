{
  "nbformat": 4,
  "nbformat_minor": 0,
  "metadata": {
    "colab": {
      "name": "fashion_mnist_classification_2_layers.ipynb",
      "provenance": [],
      "collapsed_sections": [],
      "authorship_tag": "ABX9TyNS9UU//DmKuQX9jqwtw2RG",
      "include_colab_link": true
    },
    "kernelspec": {
      "display_name": "Python 3",
      "name": "python3"
    },
    "language_info": {
      "name": "python"
    }
  },
  "cells": [
    {
      "cell_type": "markdown",
      "metadata": {
        "id": "view-in-github",
        "colab_type": "text"
      },
      "source": [
        "<a href=\"https://colab.research.google.com/github/shamim-hussain/fashion-mnist-2layer-nn/blob/main/fashion_mnist_classification_2_layers.ipynb\" target=\"_parent\"><img src=\"https://colab.research.google.com/assets/colab-badge.svg\" alt=\"Open In Colab\"/></a>"
      ]
    },
    {
      "cell_type": "markdown",
      "metadata": {
        "id": "Nk6GP2LPCgU5"
      },
      "source": [
        "# Fashion MNIST Classification using a 2 Layer Neural Network\n",
        "### Problem Description\n",
        "We will perform a classification task on the Fashion MNIST dataset:\n",
        "https://github.com/zalandoresearch/fashion-mnist\n",
        "The dataset contains 28x28 grayscale(8bit) images of different fashion articles. There are 10 different classes. The training set contains 60000 examples whereas the test set contains 10000 examples. All the classes have same number of examples so it is a blanced classification problem.\n",
        "### Framework of choice\n",
        "We will use the Tensorflow framework for this task. We will use an object oriented approach to model definition. We will define the layers in terms of very basic equations (tensor multiplication, addition, activation etc.). Also, we will define our own custom training loop."
      ]
    },
    {
      "cell_type": "markdown",
      "metadata": {
        "id": "QMufgmAXZGzt"
      },
      "source": [
        "## Resources\n",
        "* We use an object oriented model of neural network using tf.keras.models.Model. This will allow us to organize the models parameters and also initialize them.\n",
        "    * https://www.tensorflow.org/api_docs/python/tf/keras/Model\n",
        "    * https://www.tensorflow.org/guide/keras/custom_layers_and_models#the_model_class\n",
        "\n",
        "* Forward propagation: for a 2-layer neural network only need matrix multiplication, addition and activation function to define the forward propagation.\n",
        "    * Matrix multiplication: https://www.tensorflow.org/api_docs/python/tf/linalg/matmul\n",
        "    * Activation functions:\n",
        "        * ReLU: https://www.tensorflow.org/api_docs/python/tf/nn/relu\n",
        "        * Sigmoid: https://www.tensorflow.org/api_docs/python/tf/math/sigmoid\n",
        "        * Tanh: https://www.tensorflow.org/api_docs/python/tf/math/tanh\n",
        "\n",
        "* Loss/cost function:\n",
        "    * We define the cost function on the class logits. To define the crossentropy we will need to compute the log-sum-exponential, and gather the negative log likelihood of the target classes\n",
        "        * https://www.tensorflow.org/api_docs/python/tf/math/reduce_logsumexp\n",
        "        * https://www.tensorflow.org/api_docs/python/tf/gather\n",
        "    * We also define l2 regularization on the weights, which can be computed from the squared sum of the elements\n",
        "        * https://www.tensorflow.org/api_docs/python/tf/math/square\n",
        "        * https://www.tensorflow.org/api_docs/python/tf/math/reduce_sum\n",
        "\n",
        "* We use tensorflow dataset along with tf.function (static computational graphs) for fast training/validation/test loops\n",
        "    * Dataset API:\n",
        "        * https://www.tensorflow.org/guide/data\n",
        "        * https://www.tensorflow.org/api_docs/python/tf/data/Dataset\n",
        "    * tf.function\n",
        "        * https://www.tensorflow.org/guide/function\n",
        "        * https://www.tensorflow.org/api_docs/python/tf/function\n",
        "\n",
        "* We used keras metrics to monitor the training/validation/test loss and accuracy\n",
        "    * https://www.tensorflow.org/api_docs/python/tf/keras/metrics/SparseCategoricalCrossentropy\n",
        "    * https://www.tensorflow.org/api_docs/python/tf/keras/metrics/SparseCategoricalAccuracy\n",
        "\n",
        "* Backward propagation and optimization: we used the \"gradient tape\" method the compute the gradient of the total loss function w.r.t. the network parameters. Then we use optimization algorithms from tf.keras.optimizers module to apply the calculated gradients.\n",
        "    * Gradient tape and automatic differentiation\n",
        "        * https://www.tensorflow.org/guide/autodiff\n",
        "        * https://www.tensorflow.org/api_docs/python/tf/GradientTape\n",
        "    * Optimization algorithms\n",
        "        * https://www.tensorflow.org/api_docs/python/tf/keras/optimizers/SGD\n",
        "        * https://www.tensorflow.org/api_docs/python/tf/keras/optimizers/RMSprop\n",
        "        * https://www.tensorflow.org/api_docs/python/tf/keras/optimizers/Adam\n",
        "        "
      ]
    },
    {
      "cell_type": "markdown",
      "metadata": {
        "id": "1IrmzEYKLnOf"
      },
      "source": [
        "## Download the Dataset"
      ]
    },
    {
      "cell_type": "markdown",
      "metadata": {
        "id": "Yz9cWilUL4JG"
      },
      "source": [
        "The download links and the coad for loading the dataset in NumPy format can be found at https://github.com/zalandoresearch/fashion-mnist"
      ]
    },
    {
      "cell_type": "code",
      "metadata": {
        "colab": {
          "base_uri": "https://localhost:8080/"
        },
        "id": "tCO9I9PpSy3-",
        "outputId": "ac6c77b7-6ebe-4593-f862-4618a516ec78"
      },
      "source": [
        "'''From: https://github.com/zalandoresearch/fashion-mnist'''\n",
        "\n",
        "!wget http://fashion-mnist.s3-website.eu-central-1.amazonaws.com/train-images-idx3-ubyte.gz\n",
        "!wget http://fashion-mnist.s3-website.eu-central-1.amazonaws.com/train-labels-idx1-ubyte.gz\n",
        "!wget http://fashion-mnist.s3-website.eu-central-1.amazonaws.com/t10k-images-idx3-ubyte.gz\n",
        "!wget http://fashion-mnist.s3-website.eu-central-1.amazonaws.com/t10k-labels-idx1-ubyte.gz"
      ],
      "execution_count": 1,
      "outputs": [
        {
          "output_type": "stream",
          "name": "stdout",
          "text": [
            "--2021-10-01 06:35:41--  http://fashion-mnist.s3-website.eu-central-1.amazonaws.com/train-images-idx3-ubyte.gz\n",
            "Resolving fashion-mnist.s3-website.eu-central-1.amazonaws.com (fashion-mnist.s3-website.eu-central-1.amazonaws.com)... 52.219.47.74\n",
            "Connecting to fashion-mnist.s3-website.eu-central-1.amazonaws.com (fashion-mnist.s3-website.eu-central-1.amazonaws.com)|52.219.47.74|:80... connected.\n",
            "HTTP request sent, awaiting response... 200 OK\n",
            "Length: 26421880 (25M) [binary/octet-stream]\n",
            "Saving to: ‘train-images-idx3-ubyte.gz’\n",
            "\n",
            "train-images-idx3-u 100%[===================>]  25.20M  15.7MB/s    in 1.6s    \n",
            "\n",
            "2021-10-01 06:35:43 (15.7 MB/s) - ‘train-images-idx3-ubyte.gz’ saved [26421880/26421880]\n",
            "\n",
            "--2021-10-01 06:35:43--  http://fashion-mnist.s3-website.eu-central-1.amazonaws.com/train-labels-idx1-ubyte.gz\n",
            "Resolving fashion-mnist.s3-website.eu-central-1.amazonaws.com (fashion-mnist.s3-website.eu-central-1.amazonaws.com)... 52.219.47.74\n",
            "Connecting to fashion-mnist.s3-website.eu-central-1.amazonaws.com (fashion-mnist.s3-website.eu-central-1.amazonaws.com)|52.219.47.74|:80... connected.\n",
            "HTTP request sent, awaiting response... 200 OK\n",
            "Length: 29515 (29K) [binary/octet-stream]\n",
            "Saving to: ‘train-labels-idx1-ubyte.gz’\n",
            "\n",
            "train-labels-idx1-u 100%[===================>]  28.82K  --.-KB/s    in 0.1s    \n",
            "\n",
            "2021-10-01 06:35:43 (297 KB/s) - ‘train-labels-idx1-ubyte.gz’ saved [29515/29515]\n",
            "\n",
            "--2021-10-01 06:35:44--  http://fashion-mnist.s3-website.eu-central-1.amazonaws.com/t10k-images-idx3-ubyte.gz\n",
            "Resolving fashion-mnist.s3-website.eu-central-1.amazonaws.com (fashion-mnist.s3-website.eu-central-1.amazonaws.com)... 52.219.47.74\n",
            "Connecting to fashion-mnist.s3-website.eu-central-1.amazonaws.com (fashion-mnist.s3-website.eu-central-1.amazonaws.com)|52.219.47.74|:80... connected.\n",
            "HTTP request sent, awaiting response... 200 OK\n",
            "Length: 4422102 (4.2M) [binary/octet-stream]\n",
            "Saving to: ‘t10k-images-idx3-ubyte.gz’\n",
            "\n",
            "t10k-images-idx3-ub 100%[===================>]   4.22M  5.34MB/s    in 0.8s    \n",
            "\n",
            "2021-10-01 06:35:45 (5.34 MB/s) - ‘t10k-images-idx3-ubyte.gz’ saved [4422102/4422102]\n",
            "\n",
            "--2021-10-01 06:35:45--  http://fashion-mnist.s3-website.eu-central-1.amazonaws.com/t10k-labels-idx1-ubyte.gz\n",
            "Resolving fashion-mnist.s3-website.eu-central-1.amazonaws.com (fashion-mnist.s3-website.eu-central-1.amazonaws.com)... 52.219.47.74\n",
            "Connecting to fashion-mnist.s3-website.eu-central-1.amazonaws.com (fashion-mnist.s3-website.eu-central-1.amazonaws.com)|52.219.47.74|:80... connected.\n",
            "HTTP request sent, awaiting response... 200 OK\n",
            "Length: 5148 (5.0K) [binary/octet-stream]\n",
            "Saving to: ‘t10k-labels-idx1-ubyte.gz’\n",
            "\n",
            "t10k-labels-idx1-ub 100%[===================>]   5.03K  --.-KB/s    in 0s      \n",
            "\n",
            "2021-10-01 06:35:45 (116 MB/s) - ‘t10k-labels-idx1-ubyte.gz’ saved [5148/5148]\n",
            "\n"
          ]
        }
      ]
    },
    {
      "cell_type": "markdown",
      "metadata": {
        "id": "wiDSgfIfMGa-"
      },
      "source": [
        "Load the dataset in NumPy format"
      ]
    },
    {
      "cell_type": "code",
      "metadata": {
        "id": "O14Hj-PtSgcu"
      },
      "source": [
        "\n",
        "'''From: https://github.com/zalandoresearch/fashion-mnist/blob/master/utils/mnist_reader.py'''\n",
        "def load_mnist(path, kind='train'):\n",
        "    import os\n",
        "    import gzip\n",
        "    import numpy as np\n",
        "\n",
        "    \"\"\"Load MNIST data from `path`\"\"\"\n",
        "    labels_path = os.path.join(path,\n",
        "                               '%s-labels-idx1-ubyte.gz'\n",
        "                               % kind)\n",
        "    images_path = os.path.join(path,\n",
        "                               '%s-images-idx3-ubyte.gz'\n",
        "                               % kind)\n",
        "\n",
        "    with gzip.open(labels_path, 'rb') as lbpath:\n",
        "        labels = np.frombuffer(lbpath.read(), dtype=np.uint8,\n",
        "                               offset=8)\n",
        "\n",
        "    with gzip.open(images_path, 'rb') as imgpath:\n",
        "        images = np.frombuffer(imgpath.read(), dtype=np.uint8,\n",
        "                               offset=16).reshape(len(labels), 784)\n",
        "\n",
        "    return images, labels\n",
        "\n",
        "X_train, Y_train = load_mnist('./', kind='train') # Training set\n",
        "X_test, Y_test = load_mnist('./', kind='t10k') # Test set"
      ],
      "execution_count": 2,
      "outputs": []
    },
    {
      "cell_type": "markdown",
      "metadata": {
        "id": "PMtwVbrnMPSN"
      },
      "source": [
        "## Explore and Preprocess the data"
      ]
    },
    {
      "cell_type": "markdown",
      "metadata": {
        "id": "oPc6bsxxMb4t"
      },
      "source": [
        "Let us first explore the shape and datatypes of the examples and labels"
      ]
    },
    {
      "cell_type": "code",
      "metadata": {
        "colab": {
          "base_uri": "https://localhost:8080/"
        },
        "id": "9j6qNter7UUU",
        "outputId": "7647d908-8086-478c-e9d5-d459238c6e36"
      },
      "source": [
        "print('Shape of data:', X_train.shape)\n",
        "print('Type of data:', X_train.dtype)\n",
        "print('Shape of data:', Y_train.shape)\n",
        "print('Type of labes:', Y_train.dtype)"
      ],
      "execution_count": 3,
      "outputs": [
        {
          "output_type": "stream",
          "name": "stdout",
          "text": [
            "Shape of data: (60000, 784)\n",
            "Type of data: uint8\n",
            "Shape of data: (60000,)\n",
            "Type of labes: uint8\n"
          ]
        }
      ]
    },
    {
      "cell_type": "markdown",
      "metadata": {
        "id": "xHBvEoYyMpK2"
      },
      "source": [
        "We can reshape and visualized images from each class"
      ]
    },
    {
      "cell_type": "code",
      "metadata": {
        "colab": {
          "base_uri": "https://localhost:8080/",
          "height": 179
        },
        "id": "LbrBhQFx2mnz",
        "outputId": "55524480-407a-463d-f8a5-1d44fe650954"
      },
      "source": [
        "import numpy as np\n",
        "import matplotlib.pyplot as plt\n",
        "# Visualize data\n",
        "plt.figure(figsize=[20,5])\n",
        "for y in range(10):\n",
        "    plt.subplot(1,10,1+y)\n",
        "    plt.imshow(X_train[np.where(Y_train==y)[0][0]].reshape(28,28),cmap='gray')\n",
        "    plt.axis('off')\n",
        "    plt.title(f'class:{y}')\n",
        "plt.tight_layout()\n",
        "plt.show()"
      ],
      "execution_count": 4,
      "outputs": [
        {
          "output_type": "display_data",
          "data": {
            "image/png": "[encoded data removed]",
            "text/plain": [
              "<Figure size 1440x360 with 10 Axes>"
            ]
          },
          "metadata": {
            "needs_background": "light"
          }
        }
      ]
    },
    {
      "cell_type": "markdown",
      "metadata": {
        "id": "Bw6NZc0MMwwt"
      },
      "source": [
        "### Conversion into floating point input and integer target"
      ]
    },
    {
      "cell_type": "code",
      "metadata": {
        "id": "LJqyvIZe79_d"
      },
      "source": [
        "X_train = X_train.astype('float32')/255\n",
        "X_test = X_test.astype('float32')/255\n",
        "\n",
        "Y_train = Y_train.astype('int64')\n",
        "Y_test = Y_test.astype('int64')"
      ],
      "execution_count": 5,
      "outputs": []
    },
    {
      "cell_type": "markdown",
      "metadata": {
        "id": "ePj0v9BRM5e1"
      },
      "source": [
        "### Distribution of pixel intensities"
      ]
    },
    {
      "cell_type": "code",
      "metadata": {
        "colab": {
          "base_uri": "https://localhost:8080/",
          "height": 276
        },
        "id": "oTCPs4gc9CCk",
        "outputId": "ece9077b-7abe-48a8-fb7b-7ef7e2c69d24"
      },
      "source": [
        "_ = plt.hist(X_train.reshape(-1))"
      ],
      "execution_count": 6,
      "outputs": [
        {
          "output_type": "display_data",
          "data": {
            "image/png": "[encoded data removed]",
            "text/plain": [
              "<Figure size 432x288 with 1 Axes>"
            ]
          },
          "metadata": {
            "needs_background": "light"
          }
        }
      ]
    },
    {
      "cell_type": "markdown",
      "metadata": {
        "id": "n9M7zlyJNRFG"
      },
      "source": [
        "### Preprocessing"
      ]
    },
    {
      "cell_type": "markdown",
      "metadata": {
        "id": "lbrgFiw6NU3V"
      },
      "source": [
        "#### Dimensionality reduction using PCA\n",
        "From the above analysis we se that adjacent pixel intesities are highly correlated, and also the distributions of the intensities are heavy around 0. So, there is a lot of redundancy in the data, which may slow down training process and cause overfitting (since we will use a vanilla 2 layer neural network).\n",
        "\n",
        "To prevent this we first we reduce the number of input features from 784 to 128 using PCA."
      ]
    },
    {
      "cell_type": "code",
      "metadata": {
        "colab": {
          "base_uri": "https://localhost:8080/"
        },
        "id": "nIQfjy9y9ghM",
        "outputId": "84103c07-6712-429f-ef72-4a616457d6e5"
      },
      "source": [
        "from sklearn.decomposition import PCA\n",
        "\n",
        "pca = PCA(n_components=128)\n",
        "pca.fit(X_train)\n",
        "X_train_pca = pca.transform(X_train)\n",
        "X_test_pca = pca.transform(X_test)\n",
        "\n",
        "print('Number of components', X_train_pca.shape[1])"
      ],
      "execution_count": 7,
      "outputs": [
        {
          "output_type": "stream",
          "name": "stdout",
          "text": [
            "Number of components 128\n"
          ]
        }
      ]
    },
    {
      "cell_type": "markdown",
      "metadata": {
        "id": "WQPSLBfQOPd9"
      },
      "source": [
        "Next we check the efficacy of the dimensionality reduction using a reconstruction test."
      ]
    },
    {
      "cell_type": "code",
      "metadata": {
        "colab": {
          "base_uri": "https://localhost:8080/",
          "height": 341
        },
        "id": "kCEl0bD__Z6N",
        "outputId": "a8bde91b-195a-4064-f0fa-3b3bc46208ee"
      },
      "source": [
        "import numpy as np\n",
        "import matplotlib.pyplot as plt\n",
        "# Visualize data\n",
        "plt.figure(figsize=[20,5])\n",
        "for y in range(10):\n",
        "    plt.subplot(1,10,1+y)\n",
        "    plt.imshow(X_train[np.where(Y_train==y)[0][1]].reshape(28,28),cmap='gray')\n",
        "    plt.axis('off')\n",
        "    plt.title(f'class:{y}')\n",
        "plt.tight_layout()\n",
        "plt.show()\n",
        "\n",
        "plt.figure(figsize=[20,5])\n",
        "for y in range(10):\n",
        "    plt.subplot(1,10,1+y)\n",
        "    plt.imshow(pca.inverse_transform(X_train_pca[np.where(Y_train==y)[0]])[1].reshape(28,28),cmap='gray')\n",
        "    plt.axis('off')\n",
        "    plt.title(f'Recons: class:{y}')\n",
        "plt.tight_layout()\n",
        "plt.show()"
      ],
      "execution_count": 8,
      "outputs": [
        {
          "output_type": "display_data",
          "data": {
            "image/png": "[encoded data removed]",
            "text/plain": [
              "<Figure size 1440x360 with 10 Axes>"
            ]
          },
          "metadata": {
            "needs_background": "light"
          }
        },
        {
          "output_type": "display_data",
          "data": {
            "image/png": "[encoded data removed]",
            "text/plain": [
              "<Figure size 1440x360 with 10 Axes>"
            ]
          },
          "metadata": {
            "needs_background": "light"
          }
        }
      ]
    },
    {
      "cell_type": "markdown",
      "metadata": {
        "id": "4qh_VbrzOf-F"
      },
      "source": [
        "We see that, although some details are lost, the reconstruction are \"good enough\" for classification."
      ]
    },
    {
      "cell_type": "markdown",
      "metadata": {
        "id": "ApktVfYiOsU1"
      },
      "source": [
        "#### Center and scale"
      ]
    },
    {
      "cell_type": "markdown",
      "metadata": {
        "id": "8fEkmXhEOww1"
      },
      "source": [
        "We will be using a vanilla neural network with L2 regularization. So, it makes sense to first center and scale the input features."
      ]
    },
    {
      "cell_type": "code",
      "metadata": {
        "id": "P70Vu3lA2uls"
      },
      "source": [
        "from sklearn.preprocessing import StandardScaler\n",
        "scaler = StandardScaler()\n",
        "scaler.fit(X_train_pca)\n",
        "\n",
        "X_train_pca = scaler.transform(X_train_pca)\n",
        "X_test_pca = scaler.transform(X_test_pca)\n"
      ],
      "execution_count": 9,
      "outputs": []
    },
    {
      "cell_type": "markdown",
      "metadata": {
        "id": "M96KYCktPUsl"
      },
      "source": [
        "## Train-dev(validation) split\n",
        "The test data for this particular dataset is predefined. So, we only split the training data (60000) examples into 90% training and 10% validation examples."
      ]
    },
    {
      "cell_type": "code",
      "metadata": {
        "id": "0qToDOrpD-V0"
      },
      "source": [
        "from sklearn.model_selection import train_test_split\n",
        "X_train, X_val, Y_train, Y_val = train_test_split(X_train_pca, Y_train, test_size=0.1, random_state=42)\n",
        "\n",
        "X_test = X_test_pca"
      ],
      "execution_count": 10,
      "outputs": []
    },
    {
      "cell_type": "markdown",
      "metadata": {
        "id": "rqgeEOc8P0Xt"
      },
      "source": [
        "## Implementing the 2-layer neural network model\n",
        "We will use tf.keras.model to define our model in an object oriented manner. This would allow for keeping track of the weights and biases and also initializing them from a random uniform distribution. However, we will define the forward propagation equations from scratch.\n",
        "\n",
        "We will try different activation functions - ReLU, Sigmoid and Tanh for the hidden layer, also we will try different widths (no. of neurons) in the hidden layer."
      ]
    },
    {
      "cell_type": "code",
      "metadata": {
        "id": "1w5uzakHB0Rr"
      },
      "source": [
        "import tensorflow as tf\n",
        "from tensorflow.keras import models, optimizers, losses, metrics\n",
        "from tensorflow.data import Dataset\n",
        "from tqdm import trange\n",
        "\n",
        "\n",
        "num_feats = X_train.shape[1]\n",
        "\n",
        "\n",
        "class NN2Layers(models.Model):\n",
        "    def __init__(self, num_hidden=64, activation='relu', **kwargs):\n",
        "        super().__init__(**kwargs)\n",
        "\n",
        "        # Weights and biases\n",
        "        self.W1 = self.add_weight(shape=(num_feats,num_hidden), initializer='uniform')\n",
        "        self.b1 = self.add_weight(shape=(num_hidden,), initializer='uniform')\n",
        "        self.W2 = self.add_weight(shape=(num_hidden,10), initializer='uniform')\n",
        "        self.b2 = self.add_weight(shape=(10,), initializer='uniform')\n",
        "\n",
        "        # Activation functions\n",
        "        if activation == 'sigmoid':\n",
        "            self.activation_fn = tf.nn.sigmoid\n",
        "        elif activation == 'relu':\n",
        "            self.activation_fn = tf.nn.relu\n",
        "        elif activation == 'tanh':\n",
        "            self.activation_fn = tf.nn.tanh\n",
        "    \n",
        "    # Forward propagation\n",
        "    @tf.function\n",
        "    def call(self, x):\n",
        "        h1 = tf.matmul(x, self.W1) + self.b1\n",
        "        a1 = self.activation_fn(h1)\n",
        "\n",
        "        h2 = tf.matmul(a1, self.W2) + self.b2\n",
        "        # No activation on the output since we will use logits to compute loss\n",
        "        return h2\n",
        "\n",
        "\n"
      ],
      "execution_count": 11,
      "outputs": []
    },
    {
      "cell_type": "markdown",
      "metadata": {
        "id": "7em-EsWxW68c"
      },
      "source": [
        "Now we will define the training and validation logic. We will use tensorflow datasets to shuffle the data and to form minibatches, which will allow for very fast training using tf.function (traced training loops). However, we will define the training loop from scratch.\n",
        "\n",
        "We will define the loss/cost function (crossentropy/negative log likelihood from logits) and the l2 regularization loss on the model weights from scratch. However, we will use builtin metrics to monitor the loss and the accuracy during training.\n",
        "\n",
        "During training we keep track of the training and the validations losses and accuracy to monitor the convergence and also possible overfitting.\n",
        "\n",
        "We employed and exponential learning rate decay scheme for good convergence.\n"
      ]
    },
    {
      "cell_type": "code",
      "metadata": {
        "id": "vuQOtdzKWG9H"
      },
      "source": [
        "\n",
        "def train_model(X_t, Y_t, X_v, Y_v, model, optimizer='sgd', batch_size=32,\n",
        "                  epochs=100, initial_lr=1e-2, decay=0.985, l2_loss=0.):\n",
        "    # Tensorflow dataset, used in conjunction with tf.function for fast training loops\n",
        "    train_dset = Dataset.from_tensor_slices((X_t, Y_t)).shuffle(len(X_t)).batch(batch_size)\n",
        "    validation_dset = Dataset.from_tensor_slices((X_v, Y_v)).batch(batch_size)\n",
        "\n",
        "    # Optimizer\n",
        "    if optimizer == 'adam':\n",
        "        optimizer = optimizers.Adam(initial_lr)\n",
        "    if optimizer == 'rmsprop':\n",
        "        optimizer = optimizers.RMSprop(initial_lr)\n",
        "    if optimizer == 'sgd':\n",
        "        optimizer = optimizers.SGD(initial_lr, momentum=0.5)\n",
        "    \n",
        "    # Crossentropy metric\n",
        "    loss_metric = metrics.SparseCategoricalCrossentropy(from_logits=True)\n",
        "    # Accuracy metric\n",
        "    acc_metric = metrics.SparseCategoricalAccuracy()\n",
        "\n",
        "    # Negative log likelihood/ crossentropy loss from logits\n",
        "    @tf.function\n",
        "    def loss_fn(targets, logits):\n",
        "        neg_log_likelihood = tf.reduce_logsumexp(logits,axis=-1,\n",
        "                                                 keepdims=True) - logits\n",
        "        loss = tf.gather(neg_log_likelihood, targets, batch_dims=1)\n",
        "        return tf.reduce_mean(loss)\n",
        "\n",
        "    # L2 regularization on the weights\n",
        "    @tf.function\n",
        "    def l2_loss_fn():\n",
        "        return tf.reduce_sum(tf.square(model.W1)) + \\\n",
        "                tf.reduce_sum(tf.square(model.W2))\n",
        "    \n",
        "    # Training loop\n",
        "    @tf.function\n",
        "    def training_loop():\n",
        "        for X,Y in train_dset:\n",
        "            with tf.GradientTape() as tape:\n",
        "                Y_p = model(X)\n",
        "                loss = loss_fn(Y,Y_p) + l2_loss*l2_loss_fn()\n",
        "\n",
        "            \n",
        "            grads = tape.gradient(loss, model.trainable_variables)\n",
        "            optimizer.apply_gradients(zip(grads,model.trainable_variables))\n",
        "            loss_metric.update_state(Y,Y_p)\n",
        "            acc_metric.update_state(Y,Y_p)\n",
        "    \n",
        "    # Validation loop\n",
        "    @tf.function\n",
        "    def validation_loop():\n",
        "        for X,Y in validation_dset:\n",
        "            Y_p = model(X)\n",
        "            loss_metric.update_state(Y,Y_p)\n",
        "            acc_metric.update_state(Y,Y_p)\n",
        "\n",
        "\n",
        "    # Historical losses and accuracies\n",
        "    training_losses = []\n",
        "    training_accs = []\n",
        "    validation_losses = []\n",
        "    validation_accs = []\n",
        "\n",
        "    gen = trange(epochs)\n",
        "    try:\n",
        "        for epoch in gen:\n",
        "            # Training epoch\n",
        "            loss_metric.reset_state()\n",
        "            acc_metric.reset_state()\n",
        "            training_loop()\n",
        "            training_loss=loss_metric.result().numpy()\n",
        "            training_acc=acc_metric.result().numpy()\n",
        "\n",
        "            \n",
        "            # Validation epoch\n",
        "            loss_metric.reset_state()\n",
        "            acc_metric.reset_state()\n",
        "            validation_loop()\n",
        "            validation_loss=loss_metric.result().numpy()\n",
        "            validation_acc=acc_metric.result().numpy()\n",
        "\n",
        "            optimizer.lr.assign(optimizer.lr*decay)\n",
        "\n",
        "            gen.set_description(f'LR: {optimizer.lr.numpy():.3e} :: '+\n",
        "                                f'Training: loss={training_loss:0.4f}; acc={training_acc:.3%} :: '+\n",
        "                                f'Validation: loss={validation_loss:0.4f}; acc={validation_acc:.3%} ')\n",
        "            \n",
        "            training_losses.append(training_loss)\n",
        "            training_accs.append(training_acc)\n",
        "            validation_losses.append(validation_loss)\n",
        "            validation_accs.append(validation_acc)\n",
        "    finally:\n",
        "        gen.close()\n",
        "    \n",
        "    return training_losses, training_accs, validation_losses, validation_accs\n",
        "\n"
      ],
      "execution_count": 14,
      "outputs": []
    },
    {
      "cell_type": "markdown",
      "metadata": {
        "id": "Z1nvkw36kssV"
      },
      "source": [
        "Now we instantiate the model and train it"
      ]
    },
    {
      "cell_type": "code",
      "metadata": {
        "colab": {
          "base_uri": "https://localhost:8080/"
        },
        "id": "DmRtZ7hLW5A1",
        "outputId": "3531c10f-625a-4c8b-abd7-e6ef951850a9"
      },
      "source": [
        "# Instantiate the model\n",
        "model=NN2Layers(num_hidden=128, activation='relu')\n",
        "\n",
        "# Train the model\n",
        "training_losses, training_accs, validation_losses, validation_accs = \\\n",
        "train_model(X_train, Y_train, X_val, Y_val, \n",
        "            model = model, \n",
        "            optimizer = 'adam', \n",
        "            batch_size = 32, \n",
        "            epochs = 200, \n",
        "            initial_lr = 1e-3, \n",
        "            decay = 0.985, \n",
        "            l2_loss = 1e-3)"
      ],
      "execution_count": 16,
      "outputs": [
        {
          "output_type": "stream",
          "name": "stderr",
          "text": [
            "LR: 4.867e-05 :: Training: loss=0.1915; acc=94.485% :: Validation: loss=0.3022; acc=89.450% : 100%|██████████| 200/200 [05:06<00:00,  1.53s/it]\n"
          ]
        }
      ]
    },
    {
      "cell_type": "code",
      "metadata": {
        "colab": {
          "base_uri": "https://localhost:8080/",
          "height": 759
        },
        "id": "aVFc8dO_ngRQ",
        "outputId": "f21d3f78-ec13-4596-b391-e8914574528b"
      },
      "source": [
        "import matplotlib.pyplot as plt\n",
        "\n",
        "epochs = list(range(1,len(training_losses)+1))\n",
        "\n",
        "plt.figure(figsize=[8,6])\n",
        "plt.plot(epochs, training_losses, label='Training loss')\n",
        "plt.plot(epochs, validation_losses, label='Validation loss')\n",
        "plt.legend()\n",
        "plt.xlabel('Epochs')\n",
        "plt.show()\n",
        "\n",
        "plt.figure(figsize=[8,6])\n",
        "plt.plot(epochs, training_accs, label='Training accuracy')\n",
        "plt.plot(epochs, validation_accs, label='Validation accuracy')\n",
        "plt.legend()\n",
        "plt.xlabel('Epochs')\n",
        "plt.show()"
      ],
      "execution_count": 20,
      "outputs": [
        {
          "output_type": "display_data",
          "data": {
            "image/png": "[encoded data removed]",
            "text/plain": [
              "<Figure size 576x432 with 1 Axes>"
            ]
          },
          "metadata": {
            "needs_background": "light"
          }
        },
        {
          "output_type": "display_data",
          "data": {
            "image/png": "[encoded data removed]",
            "text/plain": [
              "<Figure size 576x432 with 1 Axes>"
            ]
          },
          "metadata": {
            "needs_background": "light"
          }
        }
      ]
    },
    {
      "cell_type": "markdown",
      "metadata": {
        "id": "yJBKoj_qoptB"
      },
      "source": [
        "We see from the training curves that we have both good convergence and no signs of overfitting (U shape). The validation loss has sufficiently plateaued so the number of epochs trained is adequate."
      ]
    },
    {
      "cell_type": "markdown",
      "metadata": {
        "id": "SMNiMoBNw5SE"
      },
      "source": [
        "## Final results on the test set"
      ]
    },
    {
      "cell_type": "code",
      "metadata": {
        "colab": {
          "base_uri": "https://localhost:8080/"
        },
        "id": "w6DqZz2do3GQ",
        "outputId": "393dc565-dde7-427b-d5fa-aae3c25faa57"
      },
      "source": [
        "test_dset = Dataset.from_tensor_slices((X_test, Y_test)).batch(32)\n",
        "\n",
        "# Crossentropy metric\n",
        "loss_metric = metrics.SparseCategoricalCrossentropy(from_logits=True)\n",
        "# Accuracy metric\n",
        "acc_metric = metrics.SparseCategoricalAccuracy()\n",
        "\n",
        "# Test loop\n",
        "@tf.function\n",
        "def test_loop():\n",
        "    for X,Y in test_dset:\n",
        "        Y_p = model(X)\n",
        "        loss_metric.update_state(Y,Y_p)\n",
        "        acc_metric.update_state(Y,Y_p)\n",
        "\n",
        "test_loop()\n",
        "print(f'Test crossentropy = {loss_metric.result().numpy():.4f}')\n",
        "print(f'Test accuracy = {acc_metric.result().numpy():.3%}')\n"
      ],
      "execution_count": 22,
      "outputs": [
        {
          "output_type": "stream",
          "name": "stdout",
          "text": [
            "Test crossentropy = 0.3117\n",
            "Test accuracy = 89.120%\n"
          ]
        }
      ]
    },
    {
      "cell_type": "markdown",
      "metadata": {
        "id": "rjWj8hAbxEis"
      },
      "source": [
        "## Design choices and hyperparameter selection\n",
        "\n",
        "* We performed PCA on the input pixel intensities. We verified that increasing the dimensionality beyond 128 does not significantly improve classification performance - rather slows down training and may contribute to overfitting.\n",
        "* Without L2 regularization of the weights (not biases) the model begins to overfit after a given number of epochs. L2 regularization leads to better validation loss and accuracy.\n",
        "* All three of the activation functions (ReLU, sigmoid, tanh) had approximately similar results, however ReLU had the best validation results so we chose it for the final model.\n",
        "* We tried 3 different model widths, 64, 128 and 256. Along with L2 regulariation, a width of 128 performed best.\n",
        "* We tried 3 different optimization algorithms - SGD with momentum, RMSProp and Adam. Adam had the fastest convergence and also the best final validation results. So, it was chosen for the final training.\n",
        "* We used the default initial learning rates for the optimizers - 0.01 for SGD and 0.001 for Adam and RMSProp because these values worked well enough. The learning rate decay was chosen for best convergence characteristic."
      ]
    }
  ]
}